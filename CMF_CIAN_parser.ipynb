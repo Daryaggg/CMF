{
 "cells": [
  {
   "cell_type": "markdown",
   "metadata": {},
   "source": [
    "# CIAN.ru"
   ]
  },
  {
   "cell_type": "code",
   "execution_count": 2,
   "metadata": {
    "collapsed": false
   },
   "outputs": [],
   "source": [
    "import requests\n",
    "import re\n",
    "from bs4 import BeautifulSoup\n",
    "import pandas as pd\n",
    "import time"
   ]
  },
  {
   "cell_type": "code",
   "execution_count": 3,
   "metadata": {
    "collapsed": true
   },
   "outputs": [],
   "source": [
    "def html_stripper(text):\n",
    "    return re.sub('<[^<]+?>', '', str(text))"
   ]
  },
  {
   "cell_type": "markdown",
   "metadata": {},
   "source": [
    "### Находим общую ссылку\n",
    "Оставляем два гэпа - для странички и для района. Сделаем это, чтобы охватить всю Москву в равной степени."
   ]
  },
  {
   "cell_type": "code",
   "execution_count": 4,
   "metadata": {
    "collapsed": false
   },
   "outputs": [
    {
     "data": {
      "text/plain": [
       "'http://www.cian.ru/cat.php?deal_type=sale&district%5B0%5D=24&engine_version=2&offer_type=flat&p=2'"
      ]
     },
     "execution_count": 4,
     "metadata": {},
     "output_type": "execute_result"
    }
   ],
   "source": [
    "url = 'http://www.cian.ru/cat.php?deal_type=sale&district%5B0%5D={}&engine_version=2&offer_type=flat&p={}'\n",
    "page = 2\n",
    "district = 24\n",
    "url.format(district,page)"
   ]
  },
  {
   "cell_type": "markdown",
   "metadata": {},
   "source": [
    "Попробуем выкачать несколько первых ссылок на квартиры "
   ]
  },
  {
   "cell_type": "code",
   "execution_count": 5,
   "metadata": {
    "collapsed": false
   },
   "outputs": [
    {
     "name": "stdout",
     "output_type": "stream",
     "text": [
      "149988577\n",
      "150330924\n",
      "47886734\n",
      "148186999\n",
      "150452675\n",
      "150963174\n",
      "149632549\n",
      "149953398\n",
      "148282836\n",
      "149351101\n",
      "49549585\n",
      "150464350\n",
      "145205143\n",
      "150609089\n",
      "150824806\n",
      "148181617\n",
      "19464922\n",
      "149500085\n",
      "150068823\n",
      "150638483\n",
      "149123442\n",
      "149670194\n",
      "38354296\n",
      "149988833\n",
      "150333336\n",
      "148372278\n",
      "150992290\n",
      "149670377\n"
     ]
    }
   ],
   "source": [
    "links = []\n",
    "for district in range(13, 14):\n",
    "    for page in range(1, 2):\n",
    "        page_url =  url.format(district,page)\n",
    "\n",
    "        search_page = requests.get(page_url)\n",
    "        search_page = search_page.content\n",
    "        search_page = BeautifulSoup(search_page, 'lxml')\n",
    "\n",
    "        flat_urls = search_page.findAll('div', attrs = {'ng-class':\"{'serp-item_removed': offer.remove.state, 'serp-item_popup-opened': isPopupOpen}\"})\n",
    "        flat_urls = re.split('http://www.cian.ru/sale/flat/|/\" ng-class=\"', str(flat_urls))\n",
    "\n",
    "        for link in flat_urls:\n",
    "            if link.isdigit():\n",
    "                print link"
   ]
  },
  {
   "cell_type": "markdown",
   "metadata": {},
   "source": [
    "Теперь попробуем перейти на первую страничку из скаченного списка. Сразу же отдельно сохраним инфу, которая расположена в \"табличке\" на странице. "
   ]
  },
  {
   "cell_type": "code",
   "execution_count": 6,
   "metadata": {
    "collapsed": false
   },
   "outputs": [],
   "source": [
    "flat_url = 'http://www.cian.ru/sale/flat/' + str(link) + '/'\n",
    "flat_page = requests.get(flat_url)\n",
    "flat_page = flat_page.content\n",
    "flat_page = BeautifulSoup(flat_page, 'lxml')\n",
    "\n",
    "table = flat_page.find('table', attrs = {'class':'object_descr_props'})\n",
    "table = html_stripper(table)"
   ]
  },
  {
   "cell_type": "markdown",
   "metadata": {},
   "source": [
    "# Пользовательские функции \n",
    "Напишем пользовательские функции для всех переменных, кроме района (его задаем в url) и номера квартиры (его достанем из ссылки)"
   ]
  },
  {
   "cell_type": "markdown",
   "metadata": {},
   "source": [
    "**Цена**"
   ]
  },
  {
   "cell_type": "code",
   "execution_count": 11,
   "metadata": {
    "collapsed": true
   },
   "outputs": [],
   "source": [
    "def getPrice(flat_page):\n",
    "    price = flat_page.find('div', attrs={'class':'object_descr_price'})\n",
    "    price = re.split('<div>|руб|\\W', str(price))\n",
    "    price = \"\".join([i for i in price if i.isdigit()][-3:]) # Склеим цену из кусочков, разделенных на порядки\n",
    "    return int(price)"
   ]
  },
  {
   "cell_type": "markdown",
   "metadata": {},
   "source": [
    "**Расстояние от центра**"
   ]
  },
  {
   "cell_type": "code",
   "execution_count": 13,
   "metadata": {
    "collapsed": true
   },
   "outputs": [],
   "source": [
    "# Найдем на карте координаты нулевого километра Москвы\n",
    "Center_lat = 55.755817 \n",
    "Center_lon = 37.617633\n",
    "\n",
    "def getDist(flat_page):\n",
    "    coords = flat_page.find('div', attrs={'class':'map_info_button_extend'}).contents[1]\n",
    "    coords = re.split('&amp|center=|%2C', str(coords))\n",
    "    # Найдем координаты квартиры\n",
    "    coords_list = []\n",
    "    for item in coords:\n",
    "        if item[0].isdigit():\n",
    "            coords_list.append(item)\n",
    "    lat = float(coords_list[0])\n",
    "    lon = float(coords_list[1])\n",
    "    \n",
    "    # Расчитаем расстояние между точками по Пифагору и округлим до 2-ух знаков после запятой\n",
    "    Dist = ( (lat - Center_lat)**2 + (lon - Center_lon)**2 )**0.5\n",
    "    Dist = round(Dist*70, 2)\n",
    "    return Dist"
   ]
  },
  {
   "cell_type": "markdown",
   "metadata": {
    "collapsed": true
   },
   "source": [
    "**Время в пути от метро**"
   ]
  },
  {
   "cell_type": "code",
   "execution_count": 14,
   "metadata": {
    "collapsed": true
   },
   "outputs": [],
   "source": [
    "def getMetrdist(flat_page):\n",
    "    # Т.к. для некоторых особо удаленных районов (типа Новой Москвы) расстояние до метро не всегда указывается, используем try\n",
    "    try:\n",
    "        Metrdist = flat_page.find('span', attrs={'class': 'object_item_metro_comment'})\n",
    "        Metrdist = html_stripper(Metrdist)\n",
    "        Metrdist = re.split('\\n                |', Metrdist)[1]\n",
    "    except:\n",
    "        Metrdist = None\n",
    "    return Metrdist"
   ]
  },
  {
   "cell_type": "markdown",
   "metadata": {},
   "source": [
    "**Пешком / на машине**"
   ]
  },
  {
   "cell_type": "code",
   "execution_count": 15,
   "metadata": {
    "collapsed": true
   },
   "outputs": [],
   "source": [
    "def getWalk(flat_page):\n",
    "    try:\n",
    "        Walk = flat_page.find('span', attrs={'class': 'object_item_metro_comment'})\n",
    "        Walk = html_stripper(Walk)\n",
    "        Walk = re.split('\\n                    |\\n', Walk)[4]\n",
    "    except:\n",
    "        Walk = None\n",
    "        \n",
    "    if Walk == 'пешком':\n",
    "        ifWalk = 1\n",
    "    elif Walk == None:\n",
    "        ifWalk = Walk\n",
    "    else:\n",
    "        ifWalk = 0\n",
    "    \n",
    "    return ifWalk"
   ]
  },
  {
   "cell_type": "markdown",
   "metadata": {},
   "source": [
    "**Число комнат**"
   ]
  },
  {
   "cell_type": "code",
   "execution_count": 16,
   "metadata": {
    "collapsed": true
   },
   "outputs": [],
   "source": [
    "def getRooms(flat_page):\n",
    "    rooms = flat_page.find('div', attrs={'class':'object_descr_title'})\n",
    "    rooms = html_stripper(rooms)\n",
    "    room_number = ''\n",
    "    \n",
    "    for i in re.split('-|\\n', rooms):\n",
    "        if 'комн' in i:\n",
    "            break\n",
    "        else:\n",
    "            room_number += i\n",
    "    \n",
    "    room_number = \"\".join(room_number.split())\n",
    "    \n",
    "    # Для квартир-студий обозначим число комнат равноым нулю\n",
    "    if room_number == 'свободнаяпланировка':\n",
    "        room_number = 0\n",
    "    else:\n",
    "        room_number\n",
    "    return room_number"
   ]
  },
  {
   "cell_type": "markdown",
   "metadata": {},
   "source": [
    "# Таблица\n",
    "Для таблички пропишем отдельные функции, чтобы не производить лишних вычислений."
   ]
  },
  {
   "cell_type": "markdown",
   "metadata": {},
   "source": [
    "**Номер этажа**"
   ]
  },
  {
   "cell_type": "code",
   "execution_count": 17,
   "metadata": {
    "collapsed": false
   },
   "outputs": [],
   "source": [
    "def getFloor(table):\n",
    "    Floor = re.split('Этаж|Тип дома', table)[1]\n",
    "    Floor = re.split('\\n                |\\xc2', Floor)[1]\n",
    "    return Floor"
   ]
  },
  {
   "cell_type": "markdown",
   "metadata": {},
   "source": [
    "**Всего этажей**"
   ]
  },
  {
   "cell_type": "code",
   "execution_count": 18,
   "metadata": {
    "collapsed": true
   },
   "outputs": [],
   "source": [
    "def getNfloors(table):\n",
    "    Nfloors = re.split('Этаж|Тип дома', table)[1]\n",
    "    Nfloors = re.split('\\xa0|\\n', Nfloors)[4]\n",
    "    return Nfloors"
   ]
  },
  {
   "cell_type": "markdown",
   "metadata": {},
   "source": [
    "**Новостройка / вторичка**"
   ]
  },
  {
   "cell_type": "code",
   "execution_count": 19,
   "metadata": {
    "collapsed": true
   },
   "outputs": [],
   "source": [
    "def getNew(table):\n",
    "    New = re.split('Тип дома:|,', table)[1]\n",
    "    New = re.split('\\n            |', New)[1]\n",
    "    \n",
    "    if New == 'новостройка': \n",
    "        ifnew = 1\n",
    "    elif New == 'вторичка': \n",
    "        ifnew = 0\n",
    "    else:\n",
    "        ifnew = New # Т.к. всегда попадутся нестандартные варианты заполнения той или иной формы, \n",
    "                    # подстрахуемся от неверного присвоения 0 или 1\n",
    "    \n",
    "    return ifnew"
   ]
  },
  {
   "cell_type": "markdown",
   "metadata": {},
   "source": [
    "**Материал здания**"
   ]
  },
  {
   "cell_type": "code",
   "execution_count": 20,
   "metadata": {
    "collapsed": true
   },
   "outputs": [],
   "source": [
    "def getBrick(table):\n",
    "    Brick = re.split(',|Тип продажи', table)[1]\n",
    "    Brick = re.split('\\n            |\\n', Brick)[1]\n",
    "    \n",
    "    if Brick == 'монолитно-кирпичный' or Brick == 'монолитный' or Brick == 'кирпичный' or Brick == 'кирпично-монолитный': \n",
    "        ifBrick = 1\n",
    "    else:\n",
    "        ifBrick = 0 \n",
    "    \n",
    "    return ifBrick"
   ]
  },
  {
   "cell_type": "markdown",
   "metadata": {},
   "source": [
    "**Общая площадь**"
   ]
  },
  {
   "cell_type": "code",
   "execution_count": 21,
   "metadata": {
    "collapsed": true
   },
   "outputs": [],
   "source": [
    "def getTotsp(table):\n",
    "    Totsp = re.split('Общая площадь:|м2', table)[1]\n",
    "    Totsp = re.split('\\n|\\xc2', Totsp)[2]\n",
    "    \n",
    "    # Т.к. площадь может быть целой или дробной (написанной с запятой), то сначала проверим, разделяется ли она через запятую\n",
    "    try: \n",
    "        Totsp_dot = re.split(',', Totsp)\n",
    "        Totsp = float(Totsp_dot[0] + '.' + Totsp_dot[1])\n",
    "    except: # если не разделяется, проверяем представлено на странице целое число или же что-то другое (пропущенное значение или текст)\n",
    "        try: \n",
    "            Totsp = int(Totsp)\n",
    "        except:\n",
    "            Totsp = None\n",
    "        \n",
    "    return Totsp"
   ]
  },
  {
   "cell_type": "markdown",
   "metadata": {},
   "source": [
    "**Жилая площадь**"
   ]
  },
  {
   "cell_type": "code",
   "execution_count": 22,
   "metadata": {
    "collapsed": false
   },
   "outputs": [],
   "source": [
    "def getLivesp(table):\n",
    "    Livesp = re.split('Жилая площадь:', table)[1]\n",
    "    Livesp = re.split('м2',Livesp)[0]\n",
    "    Livesp = re.split('\\n|\\xc2', Livesp)[2]\n",
    "    \n",
    "    try: \n",
    "        Livesp_dot = re.split(',', Livesp)\n",
    "        Livesp = float(Livesp_dot[0] + '.' + Livesp_dot[1])\n",
    "    except:\n",
    "        try: \n",
    "            Livesp = int(Livesp)\n",
    "        except:\n",
    "            Livesp = None\n",
    "        \n",
    "    return Livesp"
   ]
  },
  {
   "cell_type": "markdown",
   "metadata": {},
   "source": [
    "**Площадь кухни**"
   ]
  },
  {
   "cell_type": "code",
   "execution_count": 23,
   "metadata": {
    "collapsed": false
   },
   "outputs": [],
   "source": [
    "def getKitsp(table):\n",
    "    Kitsp  = re.split('Площадь кухни:', table)[1]\n",
    "    Kitsp = re.split('м2',Kitsp)[0]\n",
    "    Kitsp  = re.split('\\n|\\xc2', Kitsp)[2]\n",
    "    \n",
    "    try: \n",
    "        Kitsp_dot = re.split(',', Kitsp)\n",
    "        Kitsp = float(Kitsp_dot[0] + '.' + Kitsp_dot[1])\n",
    "    except:\n",
    "        try: \n",
    "            Kitsp = int(Kitsp)\n",
    "        except:\n",
    "            Kitsp = None\n",
    "\n",
    "    return Kitsp"
   ]
  },
  {
   "cell_type": "markdown",
   "metadata": {},
   "source": [
    "**Наличие балкона**"
   ]
  },
  {
   "cell_type": "code",
   "execution_count": 24,
   "metadata": {
    "collapsed": true
   },
   "outputs": [],
   "source": [
    "def getBal(table):\n",
    "    Bal = re.split('Балкон:|Лифт', table)[1]\n",
    "    Bal = re.split('\\n| ', Bal)[1]\n",
    "    \n",
    "    # Т.к. \"0 балконов\" обычно все-таки не пишут, просто проверим, число ли поставлено в данном месте \n",
    "    if Bal.isdigit():\n",
    "        ifBal = 1\n",
    "    else:\n",
    "        ifBal = 0\n",
    "    \n",
    "    return ifBal"
   ]
  },
  {
   "cell_type": "markdown",
   "metadata": {},
   "source": [
    "**Наличие телефона**"
   ]
  },
  {
   "cell_type": "code",
   "execution_count": 25,
   "metadata": {
    "collapsed": true
   },
   "outputs": [],
   "source": [
    "def getTel(table):\n",
    "    Tel = re.split('Телефон:|Вид из окна', table)[1]\n",
    "    Tel = re.split('\\n| ', Tel)[1]\n",
    "    \n",
    "    if Tel == 'да' or Tel == 'есть':\n",
    "        ifTel = 1\n",
    "    else:\n",
    "        ifTel = 0\n",
    "    \n",
    "    return ifTel"
   ]
  },
  {
   "cell_type": "markdown",
   "metadata": {},
   "source": [
    "# Теперь парсим\n",
    "Создадим пустой датафрейм, куда загрузим всю информацию"
   ]
  },
  {
   "cell_type": "code",
   "execution_count": 54,
   "metadata": {
    "collapsed": false
   },
   "outputs": [],
   "source": [
    "CianFlats = pd.DataFrame(columns=['N', 'Rooms', 'Price', 'Totsp', 'Livesp', 'Kitsp', 'Dist',  \n",
    "                                    'Metrdist', 'Walk', 'Brick', 'Tel', 'Bal', 'Floor', 'Nfloors', 'New'])"
   ]
  },
  {
   "cell_type": "code",
   "execution_count": null,
   "metadata": {
    "collapsed": false
   },
   "outputs": [],
   "source": [
    "flatStats = {}\n",
    "for district in range(13, 348): # Первые 12 цифр означают округа, а далее до 347 следуют районы Москвы\n",
    "    for page in range(1, 4):\n",
    "        page_url =  url.format(district,page)\n",
    "\n",
    "        search_page = requests.get(page_url)\n",
    "        search_page = search_page.content\n",
    "        search_page = BeautifulSoup(search_page, 'lxml')\n",
    "\n",
    "        flat_urls = search_page.findAll('div', attrs = {'ng-class':\"{'serp-item_removed': offer.remove.state, 'serp-item_popup-opened': isPopupOpen}\"})\n",
    "        flat_urls = re.split('http://www.cian.ru/sale/flat/|/\" ng-class=\"', str(flat_urls))\n",
    "\n",
    "        for link in flat_urls:\n",
    "            if link.isdigit():\n",
    "               \n",
    "                flat_url = 'http://www.cian.ru/sale/flat/' + str(link) + '/'\n",
    "                flat_page = requests.get(flat_url)\n",
    "                flat_page = flat_page.content\n",
    "                flat_page = BeautifulSoup(flat_page, 'lxml')\n",
    "\n",
    "                flatStats['N'] = link\n",
    "                flatStats['District'] = district\n",
    "                flatStats['Price'] = getPrice(flat_page)\n",
    "                flatStats['Dist'] = getDist(flat_page)\n",
    "                flatStats['Metrdist'] = getMetrdist(flat_page)\n",
    "                flatStats['Walk'] = getWalk(flat_page)\n",
    "                flatStats['Rooms'] = getRooms(flat_page)\n",
    "\n",
    "                table = flat_page.find('table', attrs = {'class':'object_descr_props'})\n",
    "                table = html_stripper(table)\n",
    "\n",
    "                flatStats['Floor'] = getFloor(table)\n",
    "                flatStats['Nfloors'] = getNfloors(table)\n",
    "                flatStats['New'] = getNew(table)\n",
    "                flatStats['Brick'] = getBrick(table)\n",
    "                flatStats['Totsp'] = getTotsp(table)\n",
    "                flatStats['Livesp'] = getLivesp(table)\n",
    "                flatStats['Kitsp'] = getKitsp(table)\n",
    "                flatStats['Bal'] = getBal(table)\n",
    "                flatStats['Tel'] = getTel(table)\n",
    "\n",
    "                CianFlats = CianFlats.append(flatStats, ignore_index=True)\n",
    "        print ('district {} page {} done'.format(district, page))"
   ]
  },
  {
   "cell_type": "code",
   "execution_count": null,
   "metadata": {
    "collapsed": false
   },
   "outputs": [],
   "source": [
    "CianFlats['District'].value_counts()"
   ]
  },
  {
   "cell_type": "code",
   "execution_count": null,
   "metadata": {
    "collapsed": false
   },
   "outputs": [],
   "source": [
    "CianFlats.to_csv('CianFlats13-347_4pages.csv')"
   ]
  },
  {
   "cell_type": "code",
   "execution_count": null,
   "metadata": {
    "collapsed": true
   },
   "outputs": [],
   "source": []
  }
 ],
 "metadata": {
  "anaconda-cloud": {},
  "kernelspec": {
   "display_name": "Python 2",
   "language": "python",
   "name": "python2"
  },
  "language_info": {
   "codemirror_mode": {
    "name": "ipython",
    "version": 2
   },
   "file_extension": ".py",
   "mimetype": "text/x-python",
   "name": "python",
   "nbconvert_exporter": "python",
   "pygments_lexer": "ipython2",
   "version": "2.7.11"
  }
 },
 "nbformat": 4,
 "nbformat_minor": 0
}
